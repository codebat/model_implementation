{
 "cells": [
  {
   "cell_type": "code",
   "execution_count": 1,
   "metadata": {},
   "outputs": [],
   "source": [
    "import pandas as pd\n",
    "import numpy as np\n",
    "import sklearn\n",
    "import seaborn as sns\n",
    "import torch\n",
    "import torch.nn as nn\n",
    "import torch.nn.functional as F\n",
    "import torch.optim as optim\n",
    "from torch.utils.data import Dataset, DataLoader\n",
    "from torch.nn import TransformerEncoder, TransformerDecoder, TransformerEncoderLayer, TransformerDecoderLayer\n",
    "import pdb\n"
   ]
  },
  {
   "cell_type": "code",
   "execution_count": 2,
   "metadata": {},
   "outputs": [],
   "source": [
    "grped_df = pd.read_pickle('train_siamese.pkl')"
   ]
  },
  {
   "cell_type": "code",
   "execution_count": 9,
   "metadata": {},
   "outputs": [],
   "source": [
    "grped_df = grped_df.reset_index(drop=True)"
   ]
  },
  {
   "cell_type": "code",
   "execution_count": 3,
   "metadata": {},
   "outputs": [],
   "source": [
    "class similarityModel(nn.Module):\n",
    "    def __init__(self, nhead, dim_model, dim_ff):\n",
    "        super(similarityModel, self).__init__()\n",
    "        self.num_head = nhead\n",
    "        self.dim_model = dim_model\n",
    "        self.dim_feedforward = dim_ff\n",
    "        self.encoder_layer = TransformerEncoderLayer(self.dim_model, self.num_head, self.dim_feedforward)\n",
    "        #self.linear_layer = nn.Linear(self.dim_model, 2)\n",
    "        \n",
    "    def forward_one(self, inp):\n",
    "        encoding = self.encoder_layer(inp)\n",
    "        return encoding#self.linear_layer(encoding)\n",
    "        \n",
    "    def forward(self, inp1, inp2):\n",
    "        out1 = self.forward_one(inp1)\n",
    "        out2 = self.forward_one(inp2)\n",
    "        return out1, out2\n"
   ]
  },
  {
   "cell_type": "code",
   "execution_count": 4,
   "metadata": {},
   "outputs": [],
   "source": [
    "class contrastiveLoss(nn.Module):\n",
    "    \"\"\"\n",
    "    Contrastive loss function.\n",
    "    Based on: http://yann.lecun.com/exdb/publis/pdf/hadsell-chopra-lecun-06.pdf\n",
    "    \"\"\"\n",
    "\n",
    "    def __init__(self, margin=2.0):\n",
    "        super(contrastiveLoss, self).__init__()\n",
    "        self.margin = margin\n",
    "\n",
    "    def forward(self, output1, output2, label):\n",
    "        euclidean_distance = F.pairwise_distance(output1, output2, keepdim = True)\n",
    "        loss_contrastive = torch.mean((1-label) * torch.pow(euclidean_distance, 2) +\n",
    "                                      (label) * torch.pow(torch.clamp(self.margin - euclidean_distance, min=0.0), 2))\n",
    "\n",
    "\n",
    "        return loss_contrastive"
   ]
  },
  {
   "cell_type": "code",
   "execution_count": 5,
   "metadata": {},
   "outputs": [],
   "source": [
    "class similarityDataset(Dataset):\n",
    "    def __init__(self, df):\n",
    "        self.df = df\n",
    "    \n",
    "    def __len__(self):\n",
    "        return len(self.df)\n",
    "    \n",
    "    def __getitem__(self, index):\n",
    "        x = self.df.loc[index]\n",
    "        if np.where(x['rating_score']==4)[0].size>1:\n",
    "            DIFF = int(np.random.random() > 0.6)\n",
    "            if not DIFF:\n",
    "                rel_ind = np.where(x['rating_score']==4)[0]\n",
    "                sampled_ind = np.random.choice(rel_ind, 2, replace=False)\n",
    "                return x['title_em'][sampled_ind[0]], x['title_em'][sampled_ind[1]], torch.tensor([DIFF], dtype=torch.float32) \n",
    "        zero_ind = np.random.choice(np.where(x['rating_score']==0)[0])\n",
    "        four_ind = np.random.choice(np.where(x['rating_score']==4)[0])\n",
    "        return x['title_em'][zero_ind], x['title_em'][four_ind], torch.tensor([1], dtype=torch.float32)"
   ]
  },
  {
   "cell_type": "code",
   "execution_count": 10,
   "metadata": {},
   "outputs": [],
   "source": [
    "dataset = similarityDataset(grped_df)\n",
    "\n",
    "train_dataloader = DataLoader(dataset=dataset, batch_size=32,  shuffle = True)\n",
    "\n",
    "\n",
    "model = similarityModel(nhead=16, dim_model=384, dim_ff= 2048)\n",
    "criterion = contrastiveLoss(margin = 50)\n",
    "\n",
    "optimizer = optim.Adam(model.parameters(), lr=0.0005)\n"
   ]
  },
  {
   "cell_type": "code",
   "execution_count": 12,
   "metadata": {},
   "outputs": [
    {
     "data": {
      "text/plain": [
       "similarityModel(\n",
       "  (encoder_layer): TransformerEncoderLayer(\n",
       "    (self_attn): MultiheadAttention(\n",
       "      (out_proj): NonDynamicallyQuantizableLinear(in_features=384, out_features=384, bias=True)\n",
       "    )\n",
       "    (linear1): Linear(in_features=384, out_features=2048, bias=True)\n",
       "    (dropout): Dropout(p=0.1, inplace=False)\n",
       "    (linear2): Linear(in_features=2048, out_features=384, bias=True)\n",
       "    (norm1): LayerNorm((384,), eps=1e-05, elementwise_affine=True)\n",
       "    (norm2): LayerNorm((384,), eps=1e-05, elementwise_affine=True)\n",
       "    (dropout1): Dropout(p=0.1, inplace=False)\n",
       "    (dropout2): Dropout(p=0.1, inplace=False)\n",
       "  )\n",
       ")"
      ]
     },
     "execution_count": 12,
     "metadata": {},
     "output_type": "execute_result"
    }
   ],
   "source": [
    "device = torch.device(\"cuda:0\" if torch.cuda.is_available() else \"cpu\")\n",
    "model.to(device)"
   ]
  },
  {
   "cell_type": "code",
   "execution_count": 16,
   "metadata": {},
   "outputs": [
    {
     "name": "stdout",
     "output_type": "stream",
     "text": [
      "epoch_loss: 52.91680579961732\n",
      "epoch_loss: 49.19379214353339\n",
      "epoch_loss: 47.03952414490456\n",
      "epoch_loss: 47.0314237572426\n",
      "epoch_loss: 49.78848503911218\n",
      "epoch_loss: 44.704648572345114\n",
      "epoch_loss: 46.39190689353056\n",
      "epoch_loss: 43.92085825010788\n",
      "epoch_loss: 43.751387640487316\n",
      "epoch_loss: 44.3611142801684\n",
      "epoch_loss: 52.256461964097134\n",
      "epoch_loss: 49.97697958835336\n",
      "epoch_loss: 43.52263093549152\n",
      "epoch_loss: 44.15555962850881\n",
      "epoch_loss: 42.61065007365027\n",
      "epoch_loss: 46.856279617132145\n",
      "epoch_loss: 49.16236096759175\n",
      "epoch_loss: 46.700584655584294\n",
      "epoch_loss: 45.28972916270411\n",
      "epoch_loss: 43.003936856292015\n",
      "epoch_loss: 41.71152790202651\n",
      "epoch_loss: 42.86970544415851\n",
      "epoch_loss: 43.3229243589002\n",
      "epoch_loss: 42.98785460272501\n",
      "epoch_loss: 42.07598243757736\n",
      "epoch_loss: 39.379825924718105\n",
      "epoch_loss: 38.342534852582354\n",
      "epoch_loss: 39.85954454333283\n",
      "epoch_loss: 38.492509836374325\n",
      "epoch_loss: 36.3857642218124\n",
      "epoch_loss: 40.331451504729515\n",
      "epoch_loss: 36.9612153629924\n",
      "epoch_loss: 39.88009172262147\n",
      "epoch_loss: 40.18057104598644\n",
      "epoch_loss: 41.09067078523858\n",
      "epoch_loss: 40.70964139006858\n",
      "epoch_loss: 37.386264911917756\n",
      "epoch_loss: 35.55296163780745\n",
      "epoch_loss: 33.4913909379826\n",
      "epoch_loss: 35.11537588474362\n",
      "epoch_loss: 35.9526135533355\n",
      "epoch_loss: 37.70508180662643\n",
      "epoch_loss: 38.100272788557895\n",
      "epoch_loss: 37.480581727138784\n",
      "epoch_loss: 34.6712870486947\n",
      "epoch_loss: 35.49351441582968\n",
      "epoch_loss: 35.63944063630215\n",
      "epoch_loss: 37.39151674093202\n",
      "epoch_loss: 37.383195999056795\n",
      "epoch_loss: 36.42654975624971\n"
     ]
    }
   ],
   "source": [
    "\n",
    "for epoch in range(0,50):\n",
    "    epoch_loss = 0\n",
    "    for i, data in enumerate(train_dataloader,0):\n",
    "        item1, item2 , label = data\n",
    "        item1, item2 , label = item1.to(device), item2.to(device) , label.to(device)\n",
    "        item1 = item1.unsqueeze(0)\n",
    "        item2 = item2.unsqueeze(0)\n",
    "        optimizer.zero_grad()\n",
    "        output1,output2 = model(item1,item2)\n",
    "        loss_contrastive = criterion(output1,output2,label)\n",
    "        loss_contrastive.backward()\n",
    "        optimizer.step()\n",
    "        epoch_loss += loss_contrastive.item()\n",
    "#         if i %10 == 0 :\n",
    "#             print(f'running_loss: {epoch_loss}')\n",
    "    print(f'epoch_loss: {epoch_loss/i}')\n",
    "            \n"
   ]
  },
  {
   "cell_type": "code",
   "execution_count": 17,
   "metadata": {},
   "outputs": [],
   "source": [
    "torch.save(model.state_dict(),'./siamese_similarity_hd.pth')"
   ]
  },
  {
   "cell_type": "code",
   "execution_count": 11,
   "metadata": {},
   "outputs": [
    {
     "data": {
      "text/plain": [
       "False"
      ]
     },
     "execution_count": 11,
     "metadata": {},
     "output_type": "execute_result"
    }
   ],
   "source": [
    "torch.cuda.is_available()"
   ]
  },
  {
   "cell_type": "code",
   "execution_count": null,
   "metadata": {},
   "outputs": [],
   "source": []
  }
 ],
 "metadata": {
  "kernelspec": {
   "display_name": "Python 3 (ipykernel)",
   "language": "python",
   "name": "python3"
  },
  "language_info": {
   "codemirror_mode": {
    "name": "ipython",
    "version": 3
   },
   "file_extension": ".py",
   "mimetype": "text/x-python",
   "name": "python",
   "nbconvert_exporter": "python",
   "pygments_lexer": "ipython3",
   "version": "3.9.7"
  }
 },
 "nbformat": 4,
 "nbformat_minor": 4
}
